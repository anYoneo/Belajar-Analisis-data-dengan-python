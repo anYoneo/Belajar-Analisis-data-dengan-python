{
 "cells": [
  {
   "attachments": {},
   "cell_type": "markdown",
   "metadata": {},
   "source": [
    "# Proyek Analisis Data: Nama dataset\n",
    "- Nama: Muhammad Riszky Wibowo\n",
    "- Email: bowolime@gmail.com\n",
    "- Id Dicoding:"
   ]
  },
  {
   "attachments": {},
   "cell_type": "markdown",
   "metadata": {},
   "source": [
    "## Menentukan Pertanyaan Bisnis"
   ]
  },
  {
   "attachments": {},
   "cell_type": "markdown",
   "metadata": {},
   "source": [
    "- 5 Kota dengan penjualan terbanyak?\n",
    "- Produk apa yang paling banyak peminatnya di kota Sao Paulo?\n",
    "- "
   ]
  },
  {
   "attachments": {},
   "cell_type": "markdown",
   "metadata": {},
   "source": [
    "## Menyaipkan semua library yang dibuthkan"
   ]
  },
  {
   "cell_type": "code",
   "execution_count": 43,
   "metadata": {},
   "outputs": [],
   "source": [
    "import numpy as np\n",
    "import pandas as pd\n",
    "import matplotlib.pyplot as plt\n",
    "import seaborn as sns\n",
    "import streamlit as st"
   ]
  },
  {
   "attachments": {},
   "cell_type": "markdown",
   "metadata": {},
   "source": [
    "## Data Wrangling"
   ]
  },
  {
   "attachments": {},
   "cell_type": "markdown",
   "metadata": {},
   "source": [
    "### Gathering Data"
   ]
  },
  {
   "cell_type": "code",
   "execution_count": 44,
   "metadata": {},
   "outputs": [],
   "source": [
    "customer_df = pd.read_csv(\"customers_dataset.csv\")"
   ]
  },
  {
   "cell_type": "code",
   "execution_count": 45,
   "metadata": {},
   "outputs": [],
   "source": [
    "data_order_df = pd.read_csv(\"orders_dataset.csv\")"
   ]
  },
  {
   "cell_type": "code",
   "execution_count": 46,
   "metadata": {},
   "outputs": [],
   "source": [
    "order_item_df = pd.read_csv(\"order_items_dataset.csv\")"
   ]
  },
  {
   "cell_type": "code",
   "execution_count": 47,
   "metadata": {},
   "outputs": [],
   "source": [
    "product_df = pd.read_csv(\"products_dataset.csv\")"
   ]
  },
  {
   "cell_type": "code",
   "execution_count": 48,
   "metadata": {},
   "outputs": [],
   "source": [
    "rating_product = pd.read_csv(\"order_reviews_dataset.csv\")"
   ]
  },
  {
   "cell_type": "code",
   "execution_count": 49,
   "metadata": {},
   "outputs": [],
   "source": [
    "data_customer_df = pd.merge(\n",
    "    left=customer_df,\n",
    "    right=data_order_df,\n",
    "    how=\"inner\",\n",
    "    left_on=\"customer_id\",\n",
    "    right_on=\"customer_id\"\n",
    ")"
   ]
  },
  {
   "cell_type": "code",
   "execution_count": 50,
   "metadata": {},
   "outputs": [],
   "source": [
    "data_product_customer = pd.merge(\n",
    "    left=data_customer_df,\n",
    "    right=order_item_df,\n",
    "    how=\"inner\",\n",
    "    left_on=\"order_id\",\n",
    "    right_on=\"order_id\"\n",
    ")"
   ]
  },
  {
   "cell_type": "code",
   "execution_count": 51,
   "metadata": {},
   "outputs": [],
   "source": [
    "all_data = pd.merge(\n",
    "    left=data_product_customer,\n",
    "    right=product_df,\n",
    "    how=\"inner\",\n",
    "    left_on=\"product_id\",\n",
    "    right_on=\"product_id\"\n",
    ")"
   ]
  },
  {
   "attachments": {},
   "cell_type": "markdown",
   "metadata": {},
   "source": [
    "### Assessing Data"
   ]
  },
  {
   "cell_type": "markdown",
   "metadata": {},
   "source": []
  },
  {
   "cell_type": "code",
   "execution_count": 52,
   "metadata": {},
   "outputs": [
    {
     "data": {
      "text/plain": [
       "customer_id                         0\n",
       "customer_unique_id                  0\n",
       "customer_zip_code_prefix            0\n",
       "customer_city                       0\n",
       "customer_state                      0\n",
       "order_id                            0\n",
       "order_status                        0\n",
       "order_purchase_timestamp            0\n",
       "order_approved_at                  15\n",
       "order_delivered_carrier_date     1194\n",
       "order_delivered_customer_date    2454\n",
       "order_estimated_delivery_date       0\n",
       "order_item_id                       0\n",
       "product_id                          0\n",
       "seller_id                           0\n",
       "shipping_limit_date                 0\n",
       "price                               0\n",
       "freight_value                       0\n",
       "product_category_name            1603\n",
       "product_name_lenght              1603\n",
       "product_description_lenght       1603\n",
       "product_photos_qty               1603\n",
       "product_weight_g                   18\n",
       "product_length_cm                  18\n",
       "product_height_cm                  18\n",
       "product_width_cm                   18\n",
       "dtype: int64"
      ]
     },
     "execution_count": 52,
     "metadata": {},
     "output_type": "execute_result"
    }
   ],
   "source": [
    "all_data.isnull().sum()"
   ]
  },
  {
   "cell_type": "code",
   "execution_count": null,
   "metadata": {},
   "outputs": [],
   "source": [
    "#melakukan pengecekan terhadap duplikasi data\n",
    "print(\"Jumlah duplikasi: \",all_data.duplicated().sum())"
   ]
  },
  {
   "cell_type": "code",
   "execution_count": 53,
   "metadata": {},
   "outputs": [],
   "source": [
    "#membersihkan data\n",
    "all_data.drop_duplicates(inplace=True)"
   ]
  },
  {
   "cell_type": "code",
   "execution_count": 54,
   "metadata": {},
   "outputs": [
    {
     "name": "stdout",
     "output_type": "stream",
     "text": [
      "Jumlah duplikasi:  0\n"
     ]
    }
   ],
   "source": [
    "#melakukan pengecekan terhadap duplikasi data\n",
    "print(\"Jumlah duplikasi: \",all_data.duplicated().sum())"
   ]
  },
  {
   "cell_type": "code",
   "execution_count": 56,
   "metadata": {},
   "outputs": [
    {
     "name": "stdout",
     "output_type": "stream",
     "text": [
      "<class 'pandas.core.frame.DataFrame'>\n",
      "Int64Index: 112650 entries, 0 to 112649\n",
      "Data columns (total 26 columns):\n",
      " #   Column                         Non-Null Count   Dtype  \n",
      "---  ------                         --------------   -----  \n",
      " 0   customer_id                    112650 non-null  object \n",
      " 1   customer_unique_id             112650 non-null  object \n",
      " 2   customer_zip_code_prefix       112650 non-null  int64  \n",
      " 3   customer_city                  112650 non-null  object \n",
      " 4   customer_state                 112650 non-null  object \n",
      " 5   order_id                       112650 non-null  object \n",
      " 6   order_status                   112650 non-null  object \n",
      " 7   order_purchase_timestamp       112650 non-null  object \n",
      " 8   order_approved_at              112635 non-null  object \n",
      " 9   order_delivered_carrier_date   111456 non-null  object \n",
      " 10  order_delivered_customer_date  110196 non-null  object \n",
      " 11  order_estimated_delivery_date  112650 non-null  object \n",
      " 12  order_item_id                  112650 non-null  int64  \n",
      " 13  product_id                     112650 non-null  object \n",
      " 14  seller_id                      112650 non-null  object \n",
      " 15  shipping_limit_date            112650 non-null  object \n",
      " 16  price                          112650 non-null  float64\n",
      " 17  freight_value                  112650 non-null  float64\n",
      " 18  product_category_name          111047 non-null  object \n",
      " 19  product_name_lenght            111047 non-null  float64\n",
      " 20  product_description_lenght     111047 non-null  float64\n",
      " 21  product_photos_qty             111047 non-null  float64\n",
      " 22  product_weight_g               112632 non-null  float64\n",
      " 23  product_length_cm              112632 non-null  float64\n",
      " 24  product_height_cm              112632 non-null  float64\n",
      " 25  product_width_cm               112632 non-null  float64\n",
      "dtypes: float64(9), int64(2), object(15)\n",
      "memory usage: 23.2+ MB\n"
     ]
    }
   ],
   "source": [
    "all_data.info()"
   ]
  },
  {
   "cell_type": "code",
   "execution_count": 57,
   "metadata": {},
   "outputs": [
    {
     "data": {
      "text/html": [
       "<div>\n",
       "<style scoped>\n",
       "    .dataframe tbody tr th:only-of-type {\n",
       "        vertical-align: middle;\n",
       "    }\n",
       "\n",
       "    .dataframe tbody tr th {\n",
       "        vertical-align: top;\n",
       "    }\n",
       "\n",
       "    .dataframe thead th {\n",
       "        text-align: right;\n",
       "    }\n",
       "</style>\n",
       "<table border=\"1\" class=\"dataframe\">\n",
       "  <thead>\n",
       "    <tr style=\"text-align: right;\">\n",
       "      <th></th>\n",
       "      <th>customer_id</th>\n",
       "      <th>customer_unique_id</th>\n",
       "      <th>customer_zip_code_prefix</th>\n",
       "      <th>customer_city</th>\n",
       "      <th>customer_state</th>\n",
       "      <th>order_id</th>\n",
       "      <th>order_status</th>\n",
       "      <th>order_purchase_timestamp</th>\n",
       "      <th>order_approved_at</th>\n",
       "      <th>order_delivered_carrier_date</th>\n",
       "      <th>...</th>\n",
       "      <th>price</th>\n",
       "      <th>freight_value</th>\n",
       "      <th>product_category_name</th>\n",
       "      <th>product_name_lenght</th>\n",
       "      <th>product_description_lenght</th>\n",
       "      <th>product_photos_qty</th>\n",
       "      <th>product_weight_g</th>\n",
       "      <th>product_length_cm</th>\n",
       "      <th>product_height_cm</th>\n",
       "      <th>product_width_cm</th>\n",
       "    </tr>\n",
       "  </thead>\n",
       "  <tbody>\n",
       "    <tr>\n",
       "      <th>count</th>\n",
       "      <td>112650</td>\n",
       "      <td>112650</td>\n",
       "      <td>112650.000000</td>\n",
       "      <td>112650</td>\n",
       "      <td>112650</td>\n",
       "      <td>112650</td>\n",
       "      <td>112650</td>\n",
       "      <td>112650</td>\n",
       "      <td>112635</td>\n",
       "      <td>111456</td>\n",
       "      <td>...</td>\n",
       "      <td>112650.000000</td>\n",
       "      <td>112650.000000</td>\n",
       "      <td>111047</td>\n",
       "      <td>111047.000000</td>\n",
       "      <td>111047.000000</td>\n",
       "      <td>111047.000000</td>\n",
       "      <td>112632.000000</td>\n",
       "      <td>112632.000000</td>\n",
       "      <td>112632.000000</td>\n",
       "      <td>112632.000000</td>\n",
       "    </tr>\n",
       "    <tr>\n",
       "      <th>unique</th>\n",
       "      <td>98666</td>\n",
       "      <td>95420</td>\n",
       "      <td>NaN</td>\n",
       "      <td>4110</td>\n",
       "      <td>27</td>\n",
       "      <td>98666</td>\n",
       "      <td>7</td>\n",
       "      <td>98112</td>\n",
       "      <td>90174</td>\n",
       "      <td>81017</td>\n",
       "      <td>...</td>\n",
       "      <td>NaN</td>\n",
       "      <td>NaN</td>\n",
       "      <td>73</td>\n",
       "      <td>NaN</td>\n",
       "      <td>NaN</td>\n",
       "      <td>NaN</td>\n",
       "      <td>NaN</td>\n",
       "      <td>NaN</td>\n",
       "      <td>NaN</td>\n",
       "      <td>NaN</td>\n",
       "    </tr>\n",
       "    <tr>\n",
       "      <th>top</th>\n",
       "      <td>fc3d1daec319d62d49bfb5e1f83123e9</td>\n",
       "      <td>c8460e4251689ba205045f3ea17884a1</td>\n",
       "      <td>NaN</td>\n",
       "      <td>sao paulo</td>\n",
       "      <td>SP</td>\n",
       "      <td>8272b63d03f5f79c56e9e4120aec44ef</td>\n",
       "      <td>delivered</td>\n",
       "      <td>2017-07-16 18:19:25</td>\n",
       "      <td>2018-02-24 03:20:27</td>\n",
       "      <td>2018-05-09 15:48:00</td>\n",
       "      <td>...</td>\n",
       "      <td>NaN</td>\n",
       "      <td>NaN</td>\n",
       "      <td>cama_mesa_banho</td>\n",
       "      <td>NaN</td>\n",
       "      <td>NaN</td>\n",
       "      <td>NaN</td>\n",
       "      <td>NaN</td>\n",
       "      <td>NaN</td>\n",
       "      <td>NaN</td>\n",
       "      <td>NaN</td>\n",
       "    </tr>\n",
       "    <tr>\n",
       "      <th>freq</th>\n",
       "      <td>21</td>\n",
       "      <td>24</td>\n",
       "      <td>NaN</td>\n",
       "      <td>17808</td>\n",
       "      <td>47449</td>\n",
       "      <td>21</td>\n",
       "      <td>110197</td>\n",
       "      <td>21</td>\n",
       "      <td>23</td>\n",
       "      <td>48</td>\n",
       "      <td>...</td>\n",
       "      <td>NaN</td>\n",
       "      <td>NaN</td>\n",
       "      <td>11115</td>\n",
       "      <td>NaN</td>\n",
       "      <td>NaN</td>\n",
       "      <td>NaN</td>\n",
       "      <td>NaN</td>\n",
       "      <td>NaN</td>\n",
       "      <td>NaN</td>\n",
       "      <td>NaN</td>\n",
       "    </tr>\n",
       "    <tr>\n",
       "      <th>mean</th>\n",
       "      <td>NaN</td>\n",
       "      <td>NaN</td>\n",
       "      <td>35119.309090</td>\n",
       "      <td>NaN</td>\n",
       "      <td>NaN</td>\n",
       "      <td>NaN</td>\n",
       "      <td>NaN</td>\n",
       "      <td>NaN</td>\n",
       "      <td>NaN</td>\n",
       "      <td>NaN</td>\n",
       "      <td>...</td>\n",
       "      <td>120.653739</td>\n",
       "      <td>19.990320</td>\n",
       "      <td>NaN</td>\n",
       "      <td>48.775978</td>\n",
       "      <td>787.867029</td>\n",
       "      <td>2.209713</td>\n",
       "      <td>2093.672047</td>\n",
       "      <td>30.153669</td>\n",
       "      <td>16.593766</td>\n",
       "      <td>22.996546</td>\n",
       "    </tr>\n",
       "    <tr>\n",
       "      <th>std</th>\n",
       "      <td>NaN</td>\n",
       "      <td>NaN</td>\n",
       "      <td>29866.120801</td>\n",
       "      <td>NaN</td>\n",
       "      <td>NaN</td>\n",
       "      <td>NaN</td>\n",
       "      <td>NaN</td>\n",
       "      <td>NaN</td>\n",
       "      <td>NaN</td>\n",
       "      <td>NaN</td>\n",
       "      <td>...</td>\n",
       "      <td>183.633928</td>\n",
       "      <td>15.806405</td>\n",
       "      <td>NaN</td>\n",
       "      <td>10.025581</td>\n",
       "      <td>652.135608</td>\n",
       "      <td>1.721438</td>\n",
       "      <td>3751.596884</td>\n",
       "      <td>16.153449</td>\n",
       "      <td>13.443483</td>\n",
       "      <td>11.707268</td>\n",
       "    </tr>\n",
       "    <tr>\n",
       "      <th>min</th>\n",
       "      <td>NaN</td>\n",
       "      <td>NaN</td>\n",
       "      <td>1003.000000</td>\n",
       "      <td>NaN</td>\n",
       "      <td>NaN</td>\n",
       "      <td>NaN</td>\n",
       "      <td>NaN</td>\n",
       "      <td>NaN</td>\n",
       "      <td>NaN</td>\n",
       "      <td>NaN</td>\n",
       "      <td>...</td>\n",
       "      <td>0.850000</td>\n",
       "      <td>0.000000</td>\n",
       "      <td>NaN</td>\n",
       "      <td>5.000000</td>\n",
       "      <td>4.000000</td>\n",
       "      <td>1.000000</td>\n",
       "      <td>0.000000</td>\n",
       "      <td>7.000000</td>\n",
       "      <td>2.000000</td>\n",
       "      <td>6.000000</td>\n",
       "    </tr>\n",
       "    <tr>\n",
       "      <th>25%</th>\n",
       "      <td>NaN</td>\n",
       "      <td>NaN</td>\n",
       "      <td>11310.000000</td>\n",
       "      <td>NaN</td>\n",
       "      <td>NaN</td>\n",
       "      <td>NaN</td>\n",
       "      <td>NaN</td>\n",
       "      <td>NaN</td>\n",
       "      <td>NaN</td>\n",
       "      <td>NaN</td>\n",
       "      <td>...</td>\n",
       "      <td>39.900000</td>\n",
       "      <td>13.080000</td>\n",
       "      <td>NaN</td>\n",
       "      <td>42.000000</td>\n",
       "      <td>348.000000</td>\n",
       "      <td>1.000000</td>\n",
       "      <td>300.000000</td>\n",
       "      <td>18.000000</td>\n",
       "      <td>8.000000</td>\n",
       "      <td>15.000000</td>\n",
       "    </tr>\n",
       "    <tr>\n",
       "      <th>50%</th>\n",
       "      <td>NaN</td>\n",
       "      <td>NaN</td>\n",
       "      <td>24340.000000</td>\n",
       "      <td>NaN</td>\n",
       "      <td>NaN</td>\n",
       "      <td>NaN</td>\n",
       "      <td>NaN</td>\n",
       "      <td>NaN</td>\n",
       "      <td>NaN</td>\n",
       "      <td>NaN</td>\n",
       "      <td>...</td>\n",
       "      <td>74.990000</td>\n",
       "      <td>16.260000</td>\n",
       "      <td>NaN</td>\n",
       "      <td>52.000000</td>\n",
       "      <td>603.000000</td>\n",
       "      <td>1.000000</td>\n",
       "      <td>700.000000</td>\n",
       "      <td>25.000000</td>\n",
       "      <td>13.000000</td>\n",
       "      <td>20.000000</td>\n",
       "    </tr>\n",
       "    <tr>\n",
       "      <th>75%</th>\n",
       "      <td>NaN</td>\n",
       "      <td>NaN</td>\n",
       "      <td>59028.750000</td>\n",
       "      <td>NaN</td>\n",
       "      <td>NaN</td>\n",
       "      <td>NaN</td>\n",
       "      <td>NaN</td>\n",
       "      <td>NaN</td>\n",
       "      <td>NaN</td>\n",
       "      <td>NaN</td>\n",
       "      <td>...</td>\n",
       "      <td>134.900000</td>\n",
       "      <td>21.150000</td>\n",
       "      <td>NaN</td>\n",
       "      <td>57.000000</td>\n",
       "      <td>987.000000</td>\n",
       "      <td>3.000000</td>\n",
       "      <td>1800.000000</td>\n",
       "      <td>38.000000</td>\n",
       "      <td>20.000000</td>\n",
       "      <td>30.000000</td>\n",
       "    </tr>\n",
       "    <tr>\n",
       "      <th>max</th>\n",
       "      <td>NaN</td>\n",
       "      <td>NaN</td>\n",
       "      <td>99990.000000</td>\n",
       "      <td>NaN</td>\n",
       "      <td>NaN</td>\n",
       "      <td>NaN</td>\n",
       "      <td>NaN</td>\n",
       "      <td>NaN</td>\n",
       "      <td>NaN</td>\n",
       "      <td>NaN</td>\n",
       "      <td>...</td>\n",
       "      <td>6735.000000</td>\n",
       "      <td>409.680000</td>\n",
       "      <td>NaN</td>\n",
       "      <td>76.000000</td>\n",
       "      <td>3992.000000</td>\n",
       "      <td>20.000000</td>\n",
       "      <td>40425.000000</td>\n",
       "      <td>105.000000</td>\n",
       "      <td>105.000000</td>\n",
       "      <td>118.000000</td>\n",
       "    </tr>\n",
       "  </tbody>\n",
       "</table>\n",
       "<p>11 rows × 26 columns</p>\n",
       "</div>"
      ],
      "text/plain": [
       "                             customer_id                customer_unique_id  \\\n",
       "count                             112650                            112650   \n",
       "unique                             98666                             95420   \n",
       "top     fc3d1daec319d62d49bfb5e1f83123e9  c8460e4251689ba205045f3ea17884a1   \n",
       "freq                                  21                                24   \n",
       "mean                                 NaN                               NaN   \n",
       "std                                  NaN                               NaN   \n",
       "min                                  NaN                               NaN   \n",
       "25%                                  NaN                               NaN   \n",
       "50%                                  NaN                               NaN   \n",
       "75%                                  NaN                               NaN   \n",
       "max                                  NaN                               NaN   \n",
       "\n",
       "        customer_zip_code_prefix customer_city customer_state  \\\n",
       "count              112650.000000        112650         112650   \n",
       "unique                       NaN          4110             27   \n",
       "top                          NaN     sao paulo             SP   \n",
       "freq                         NaN         17808          47449   \n",
       "mean                35119.309090           NaN            NaN   \n",
       "std                 29866.120801           NaN            NaN   \n",
       "min                  1003.000000           NaN            NaN   \n",
       "25%                 11310.000000           NaN            NaN   \n",
       "50%                 24340.000000           NaN            NaN   \n",
       "75%                 59028.750000           NaN            NaN   \n",
       "max                 99990.000000           NaN            NaN   \n",
       "\n",
       "                                order_id order_status  \\\n",
       "count                             112650       112650   \n",
       "unique                             98666            7   \n",
       "top     8272b63d03f5f79c56e9e4120aec44ef    delivered   \n",
       "freq                                  21       110197   \n",
       "mean                                 NaN          NaN   \n",
       "std                                  NaN          NaN   \n",
       "min                                  NaN          NaN   \n",
       "25%                                  NaN          NaN   \n",
       "50%                                  NaN          NaN   \n",
       "75%                                  NaN          NaN   \n",
       "max                                  NaN          NaN   \n",
       "\n",
       "       order_purchase_timestamp    order_approved_at  \\\n",
       "count                    112650               112635   \n",
       "unique                    98112                90174   \n",
       "top         2017-07-16 18:19:25  2018-02-24 03:20:27   \n",
       "freq                         21                   23   \n",
       "mean                        NaN                  NaN   \n",
       "std                         NaN                  NaN   \n",
       "min                         NaN                  NaN   \n",
       "25%                         NaN                  NaN   \n",
       "50%                         NaN                  NaN   \n",
       "75%                         NaN                  NaN   \n",
       "max                         NaN                  NaN   \n",
       "\n",
       "       order_delivered_carrier_date  ...          price  freight_value  \\\n",
       "count                        111456  ...  112650.000000  112650.000000   \n",
       "unique                        81017  ...            NaN            NaN   \n",
       "top             2018-05-09 15:48:00  ...            NaN            NaN   \n",
       "freq                             48  ...            NaN            NaN   \n",
       "mean                            NaN  ...     120.653739      19.990320   \n",
       "std                             NaN  ...     183.633928      15.806405   \n",
       "min                             NaN  ...       0.850000       0.000000   \n",
       "25%                             NaN  ...      39.900000      13.080000   \n",
       "50%                             NaN  ...      74.990000      16.260000   \n",
       "75%                             NaN  ...     134.900000      21.150000   \n",
       "max                             NaN  ...    6735.000000     409.680000   \n",
       "\n",
       "        product_category_name product_name_lenght product_description_lenght  \\\n",
       "count                  111047       111047.000000              111047.000000   \n",
       "unique                     73                 NaN                        NaN   \n",
       "top           cama_mesa_banho                 NaN                        NaN   \n",
       "freq                    11115                 NaN                        NaN   \n",
       "mean                      NaN           48.775978                 787.867029   \n",
       "std                       NaN           10.025581                 652.135608   \n",
       "min                       NaN            5.000000                   4.000000   \n",
       "25%                       NaN           42.000000                 348.000000   \n",
       "50%                       NaN           52.000000                 603.000000   \n",
       "75%                       NaN           57.000000                 987.000000   \n",
       "max                       NaN           76.000000                3992.000000   \n",
       "\n",
       "       product_photos_qty  product_weight_g  product_length_cm  \\\n",
       "count       111047.000000     112632.000000      112632.000000   \n",
       "unique                NaN               NaN                NaN   \n",
       "top                   NaN               NaN                NaN   \n",
       "freq                  NaN               NaN                NaN   \n",
       "mean             2.209713       2093.672047          30.153669   \n",
       "std              1.721438       3751.596884          16.153449   \n",
       "min              1.000000          0.000000           7.000000   \n",
       "25%              1.000000        300.000000          18.000000   \n",
       "50%              1.000000        700.000000          25.000000   \n",
       "75%              3.000000       1800.000000          38.000000   \n",
       "max             20.000000      40425.000000         105.000000   \n",
       "\n",
       "       product_height_cm  product_width_cm  \n",
       "count      112632.000000     112632.000000  \n",
       "unique               NaN               NaN  \n",
       "top                  NaN               NaN  \n",
       "freq                 NaN               NaN  \n",
       "mean           16.593766         22.996546  \n",
       "std            13.443483         11.707268  \n",
       "min             2.000000          6.000000  \n",
       "25%             8.000000         15.000000  \n",
       "50%            13.000000         20.000000  \n",
       "75%            20.000000         30.000000  \n",
       "max           105.000000        118.000000  \n",
       "\n",
       "[11 rows x 26 columns]"
      ]
     },
     "execution_count": 57,
     "metadata": {},
     "output_type": "execute_result"
    }
   ],
   "source": [
    "all_data.describe(include=\"all\")"
   ]
  },
  {
   "cell_type": "code",
   "execution_count": 58,
   "metadata": {},
   "outputs": [
    {
     "name": "stdout",
     "output_type": "stream",
     "text": [
      "customer_id                         0\n",
      "customer_unique_id                  0\n",
      "customer_zip_code_prefix            0\n",
      "customer_city                       0\n",
      "customer_state                      0\n",
      "order_id                            0\n",
      "order_status                        0\n",
      "order_purchase_timestamp            0\n",
      "order_approved_at                  15\n",
      "order_delivered_carrier_date     1194\n",
      "order_delivered_customer_date    2454\n",
      "order_estimated_delivery_date       0\n",
      "order_item_id                       0\n",
      "product_id                          0\n",
      "seller_id                           0\n",
      "shipping_limit_date                 0\n",
      "price                               0\n",
      "freight_value                       0\n",
      "product_category_name            1603\n",
      "product_name_lenght              1603\n",
      "product_description_lenght       1603\n",
      "product_photos_qty               1603\n",
      "product_weight_g                   18\n",
      "product_length_cm                  18\n",
      "product_height_cm                  18\n",
      "product_width_cm                   18\n",
      "dtype: int64\n"
     ]
    }
   ],
   "source": [
    "print(all_data.isna().sum())"
   ]
  },
  {
   "attachments": {},
   "cell_type": "markdown",
   "metadata": {},
   "source": [
    "### Cleaning Data"
   ]
  },
  {
   "cell_type": "code",
   "execution_count": 59,
   "metadata": {},
   "outputs": [],
   "source": [
    "#menghilangakan data missing value\n",
    "all_data.fillna(value=\"NaN\", inplace=True)"
   ]
  },
  {
   "cell_type": "code",
   "execution_count": 61,
   "metadata": {},
   "outputs": [],
   "source": [
    "#mengubah tyoe data dari object menjadi date time\n",
    "datetime_columns = [\"order_purchase_timestamp\", \"order_approved_at\",\"order_delivered_carrier_date\",\"order_delivered_customer_date\",\"order_estimated_delivery_date\"]\n",
    " \n",
    "for column in datetime_columns:\n",
    "  all_data[column] = pd.to_datetime(all_data[column])"
   ]
  },
  {
   "cell_type": "code",
   "execution_count": 62,
   "metadata": {},
   "outputs": [
    {
     "name": "stdout",
     "output_type": "stream",
     "text": [
      "customer_id                         0\n",
      "customer_unique_id                  0\n",
      "customer_zip_code_prefix            0\n",
      "customer_city                       0\n",
      "customer_state                      0\n",
      "order_id                            0\n",
      "order_status                        0\n",
      "order_purchase_timestamp            0\n",
      "order_approved_at                  15\n",
      "order_delivered_carrier_date     1194\n",
      "order_delivered_customer_date    2454\n",
      "order_estimated_delivery_date       0\n",
      "order_item_id                       0\n",
      "product_id                          0\n",
      "seller_id                           0\n",
      "shipping_limit_date                 0\n",
      "price                               0\n",
      "freight_value                       0\n",
      "product_category_name               0\n",
      "product_name_lenght                 0\n",
      "product_description_lenght          0\n",
      "product_photos_qty                  0\n",
      "product_weight_g                    0\n",
      "product_length_cm                   0\n",
      "product_height_cm                   0\n",
      "product_width_cm                    0\n",
      "dtype: int64\n"
     ]
    }
   ],
   "source": [
    "#Melakukan pengecekan missing value pada data\n",
    "print(all_data.isna().sum())"
   ]
  },
  {
   "cell_type": "markdown",
   "metadata": {},
   "source": []
  },
  {
   "cell_type": "code",
   "execution_count": 63,
   "metadata": {},
   "outputs": [],
   "source": [
    "#Menghilangkan missing value menggunakan metode fillna\n",
    "all_data.fillna(value=\"/n\", inplace=True)"
   ]
  },
  {
   "cell_type": "code",
   "execution_count": 64,
   "metadata": {},
   "outputs": [
    {
     "name": "stdout",
     "output_type": "stream",
     "text": [
      "customer_id                      0\n",
      "customer_unique_id               0\n",
      "customer_zip_code_prefix         0\n",
      "customer_city                    0\n",
      "customer_state                   0\n",
      "order_id                         0\n",
      "order_status                     0\n",
      "order_purchase_timestamp         0\n",
      "order_approved_at                0\n",
      "order_delivered_carrier_date     0\n",
      "order_delivered_customer_date    0\n",
      "order_estimated_delivery_date    0\n",
      "order_item_id                    0\n",
      "product_id                       0\n",
      "seller_id                        0\n",
      "shipping_limit_date              0\n",
      "price                            0\n",
      "freight_value                    0\n",
      "product_category_name            0\n",
      "product_name_lenght              0\n",
      "product_description_lenght       0\n",
      "product_photos_qty               0\n",
      "product_weight_g                 0\n",
      "product_length_cm                0\n",
      "product_height_cm                0\n",
      "product_width_cm                 0\n",
      "dtype: int64\n"
     ]
    }
   ],
   "source": [
    "#mengecek kemungkinan masih adanya missing value\n",
    "print(all_data.isna().sum())"
   ]
  },
  {
   "attachments": {},
   "cell_type": "markdown",
   "metadata": {},
   "source": [
    "## Exploratory Data Analysis (EDA)"
   ]
  },
  {
   "attachments": {},
   "cell_type": "markdown",
   "metadata": {},
   "source": [
    "### Explore ..."
   ]
  },
  {
   "cell_type": "code",
   "execution_count": 65,
   "metadata": {},
   "outputs": [
    {
     "data": {
      "text/html": [
       "<div>\n",
       "<style scoped>\n",
       "    .dataframe tbody tr th:only-of-type {\n",
       "        vertical-align: middle;\n",
       "    }\n",
       "\n",
       "    .dataframe tbody tr th {\n",
       "        vertical-align: top;\n",
       "    }\n",
       "\n",
       "    .dataframe thead th {\n",
       "        text-align: right;\n",
       "    }\n",
       "</style>\n",
       "<table border=\"1\" class=\"dataframe\">\n",
       "  <thead>\n",
       "    <tr style=\"text-align: right;\">\n",
       "      <th></th>\n",
       "      <th>order_id</th>\n",
       "      <th>price</th>\n",
       "    </tr>\n",
       "    <tr>\n",
       "      <th>product_category_name</th>\n",
       "      <th></th>\n",
       "      <th></th>\n",
       "    </tr>\n",
       "  </thead>\n",
       "  <tbody>\n",
       "    <tr>\n",
       "      <th>NaN</th>\n",
       "      <td>1451</td>\n",
       "      <td>111.999551</td>\n",
       "    </tr>\n",
       "    <tr>\n",
       "      <th>agro_industria_e_comercio</th>\n",
       "      <td>182</td>\n",
       "      <td>342.124858</td>\n",
       "    </tr>\n",
       "    <tr>\n",
       "      <th>alimentos</th>\n",
       "      <td>450</td>\n",
       "      <td>57.634137</td>\n",
       "    </tr>\n",
       "    <tr>\n",
       "      <th>alimentos_bebidas</th>\n",
       "      <td>227</td>\n",
       "      <td>54.602446</td>\n",
       "    </tr>\n",
       "    <tr>\n",
       "      <th>artes</th>\n",
       "      <td>202</td>\n",
       "      <td>115.802105</td>\n",
       "    </tr>\n",
       "    <tr>\n",
       "      <th>...</th>\n",
       "      <td>...</td>\n",
       "      <td>...</td>\n",
       "    </tr>\n",
       "    <tr>\n",
       "      <th>sinalizacao_e_seguranca</th>\n",
       "      <td>140</td>\n",
       "      <td>108.086583</td>\n",
       "    </tr>\n",
       "    <tr>\n",
       "      <th>tablets_impressao_imagem</th>\n",
       "      <td>79</td>\n",
       "      <td>90.703735</td>\n",
       "    </tr>\n",
       "    <tr>\n",
       "      <th>telefonia</th>\n",
       "      <td>4199</td>\n",
       "      <td>71.213978</td>\n",
       "    </tr>\n",
       "    <tr>\n",
       "      <th>telefonia_fixa</th>\n",
       "      <td>217</td>\n",
       "      <td>225.693182</td>\n",
       "    </tr>\n",
       "    <tr>\n",
       "      <th>utilidades_domesticas</th>\n",
       "      <td>5884</td>\n",
       "      <td>90.788148</td>\n",
       "    </tr>\n",
       "  </tbody>\n",
       "</table>\n",
       "<p>74 rows × 2 columns</p>\n",
       "</div>"
      ],
      "text/plain": [
       "                           order_id       price\n",
       "product_category_name                          \n",
       "NaN                            1451  111.999551\n",
       "agro_industria_e_comercio       182  342.124858\n",
       "alimentos                       450   57.634137\n",
       "alimentos_bebidas               227   54.602446\n",
       "artes                           202  115.802105\n",
       "...                             ...         ...\n",
       "sinalizacao_e_seguranca         140  108.086583\n",
       "tablets_impressao_imagem         79   90.703735\n",
       "telefonia                      4199   71.213978\n",
       "telefonia_fixa                  217  225.693182\n",
       "utilidades_domesticas          5884   90.788148\n",
       "\n",
       "[74 rows x 2 columns]"
      ]
     },
     "execution_count": 65,
     "metadata": {},
     "output_type": "execute_result"
    }
   ],
   "source": [
    "#Memembuat table order id dan sales\n",
    "all_data.groupby(by=\"product_category_name\").agg({\n",
    "    \"order_id\": \"nunique\",\n",
    "    \"price\": \"mean\"\n",
    "})\n"
   ]
  },
  {
   "cell_type": "code",
   "execution_count": 66,
   "metadata": {},
   "outputs": [
    {
     "name": "stdout",
     "output_type": "stream",
     "text": [
      "['moveis_escritorio' 'utilidades_domesticas' 'casa_conforto'\n",
      " 'esporte_lazer' 'informatica_acessorios' 'NaN' 'brinquedos'\n",
      " 'moveis_decoracao' 'automotivo' 'climatizacao' 'telefonia' 'beleza_saude'\n",
      " 'ferramentas_jardim' 'pet_shop' 'cama_mesa_banho' 'bebes'\n",
      " 'relogios_presentes' 'moveis_cozinha_area_de_servico_jantar_e_jardim'\n",
      " 'perfumaria' 'artes' 'papelaria' 'fashion_roupa_feminina'\n",
      " 'consoles_games' 'construcao_ferramentas_iluminacao' 'alimentos_bebidas'\n",
      " 'bebidas' 'cool_stuff' 'fashion_bolsas_e_acessorios' 'casa_construcao'\n",
      " 'malas_acessorios' 'eletronicos' 'eletrodomesticos_2'\n",
      " 'fashion_roupa_masculina' 'eletroportateis' 'portateis_casa_forno_e_cafe'\n",
      " 'livros_interesse_geral' 'eletrodomesticos'\n",
      " 'construcao_ferramentas_ferramentas' 'sinalizacao_e_seguranca'\n",
      " 'instrumentos_musicais' 'construcao_ferramentas_construcao' 'musica'\n",
      " 'fashion_calcados' 'industria_comercio_e_negocios'\n",
      " 'fashion_underwear_e_moda_praia' 'dvds_blu_ray'\n",
      " 'construcao_ferramentas_seguranca' 'alimentos' 'telefonia_fixa'\n",
      " 'moveis_sala' 'tablets_impressao_imagem' 'market_place'\n",
      " 'artigos_de_natal' 'agro_industria_e_comercio'\n",
      " 'construcao_ferramentas_jardim' 'pcs' 'moveis_quarto' 'audio'\n",
      " 'livros_importados' 'livros_tecnicos' 'artigos_de_festas'\n",
      " 'portateis_cozinha_e_preparadores_de_alimentos' 'pc_gamer'\n",
      " 'moveis_colchao_e_estofado' 'la_cuisine' 'flores' 'fraldas_higiene'\n",
      " 'cine_foto' 'cds_dvds_musicais' 'fashion_esporte' 'casa_conforto_2'\n",
      " 'artes_e_artesanato' 'fashion_roupa_infanto_juvenil' 'seguros_e_servicos']\n"
     ]
    }
   ],
   "source": [
    "print(all_data['product_category_name'].unique())"
   ]
  },
  {
   "cell_type": "code",
   "execution_count": 67,
   "metadata": {},
   "outputs": [
    {
     "data": {
      "text/html": [
       "<div>\n",
       "<style scoped>\n",
       "    .dataframe tbody tr th:only-of-type {\n",
       "        vertical-align: middle;\n",
       "    }\n",
       "\n",
       "    .dataframe tbody tr th {\n",
       "        vertical-align: top;\n",
       "    }\n",
       "\n",
       "    .dataframe thead th {\n",
       "        text-align: right;\n",
       "    }\n",
       "</style>\n",
       "<table border=\"1\" class=\"dataframe\">\n",
       "  <thead>\n",
       "    <tr style=\"text-align: right;\">\n",
       "      <th></th>\n",
       "      <th></th>\n",
       "      <th>price</th>\n",
       "    </tr>\n",
       "    <tr>\n",
       "      <th>customer_city</th>\n",
       "      <th>product_category_name</th>\n",
       "      <th></th>\n",
       "    </tr>\n",
       "  </thead>\n",
       "  <tbody>\n",
       "    <tr>\n",
       "      <th rowspan=\"3\" valign=\"top\">abadia dos dourados</th>\n",
       "      <th>cool_stuff</th>\n",
       "      <td>199.00</td>\n",
       "    </tr>\n",
       "    <tr>\n",
       "      <th>esporte_lazer</th>\n",
       "      <td>120.00</td>\n",
       "    </tr>\n",
       "    <tr>\n",
       "      <th>livros_interesse_geral</th>\n",
       "      <td>39.90</td>\n",
       "    </tr>\n",
       "    <tr>\n",
       "      <th>abadiania</th>\n",
       "      <th>eletroportateis</th>\n",
       "      <td>949.99</td>\n",
       "    </tr>\n",
       "    <tr>\n",
       "      <th>abaete</th>\n",
       "      <th>NaN</th>\n",
       "      <td>36.90</td>\n",
       "    </tr>\n",
       "    <tr>\n",
       "      <th>...</th>\n",
       "      <th>...</th>\n",
       "      <td>...</td>\n",
       "    </tr>\n",
       "    <tr>\n",
       "      <th rowspan=\"3\" valign=\"top\">ze doca</th>\n",
       "      <th>esporte_lazer</th>\n",
       "      <td>149.90</td>\n",
       "    </tr>\n",
       "    <tr>\n",
       "      <th>ferramentas_jardim</th>\n",
       "      <td>39.90</td>\n",
       "    </tr>\n",
       "    <tr>\n",
       "      <th>instrumentos_musicais</th>\n",
       "      <td>359.00</td>\n",
       "    </tr>\n",
       "    <tr>\n",
       "      <th rowspan=\"2\" valign=\"top\">zortea</th>\n",
       "      <th>NaN</th>\n",
       "      <td>29.90</td>\n",
       "    </tr>\n",
       "    <tr>\n",
       "      <th>informatica_acessorios</th>\n",
       "      <td>69.90</td>\n",
       "    </tr>\n",
       "  </tbody>\n",
       "</table>\n",
       "<p>25723 rows × 1 columns</p>\n",
       "</div>"
      ],
      "text/plain": [
       "                                             price\n",
       "customer_city       product_category_name         \n",
       "abadia dos dourados cool_stuff              199.00\n",
       "                    esporte_lazer           120.00\n",
       "                    livros_interesse_geral   39.90\n",
       "abadiania           eletroportateis         949.99\n",
       "abaete              NaN                      36.90\n",
       "...                                            ...\n",
       "ze doca             esporte_lazer           149.90\n",
       "                    ferramentas_jardim       39.90\n",
       "                    instrumentos_musicais   359.00\n",
       "zortea              NaN                      29.90\n",
       "                    informatica_acessorios   69.90\n",
       "\n",
       "[25723 rows x 1 columns]"
      ]
     },
     "execution_count": 67,
     "metadata": {},
     "output_type": "execute_result"
    }
   ],
   "source": [
    "all_data.groupby(by=[\"customer_city\", \"product_category_name\"]).agg({\n",
    "    \"price\": \"sum\"\n",
    "})"
   ]
  },
  {
   "cell_type": "code",
   "execution_count": 68,
   "metadata": {},
   "outputs": [
    {
     "data": {
      "text/html": [
       "<div>\n",
       "<style scoped>\n",
       "    .dataframe tbody tr th:only-of-type {\n",
       "        vertical-align: middle;\n",
       "    }\n",
       "\n",
       "    .dataframe tbody tr th {\n",
       "        vertical-align: top;\n",
       "    }\n",
       "\n",
       "    .dataframe thead th {\n",
       "        text-align: right;\n",
       "    }\n",
       "</style>\n",
       "<table border=\"1\" class=\"dataframe\">\n",
       "  <thead>\n",
       "    <tr style=\"text-align: right;\">\n",
       "      <th></th>\n",
       "      <th>order_id</th>\n",
       "      <th>price</th>\n",
       "    </tr>\n",
       "    <tr>\n",
       "      <th>product_category_name</th>\n",
       "      <th></th>\n",
       "      <th></th>\n",
       "    </tr>\n",
       "  </thead>\n",
       "  <tbody>\n",
       "    <tr>\n",
       "      <th>NaN</th>\n",
       "      <td>1451</td>\n",
       "      <td>179535.28</td>\n",
       "    </tr>\n",
       "    <tr>\n",
       "      <th>agro_industria_e_comercio</th>\n",
       "      <td>182</td>\n",
       "      <td>72530.47</td>\n",
       "    </tr>\n",
       "    <tr>\n",
       "      <th>alimentos</th>\n",
       "      <td>450</td>\n",
       "      <td>29393.41</td>\n",
       "    </tr>\n",
       "    <tr>\n",
       "      <th>alimentos_bebidas</th>\n",
       "      <td>227</td>\n",
       "      <td>15179.48</td>\n",
       "    </tr>\n",
       "    <tr>\n",
       "      <th>artes</th>\n",
       "      <td>202</td>\n",
       "      <td>24202.64</td>\n",
       "    </tr>\n",
       "    <tr>\n",
       "      <th>...</th>\n",
       "      <td>...</td>\n",
       "      <td>...</td>\n",
       "    </tr>\n",
       "    <tr>\n",
       "      <th>sinalizacao_e_seguranca</th>\n",
       "      <td>140</td>\n",
       "      <td>21509.23</td>\n",
       "    </tr>\n",
       "    <tr>\n",
       "      <th>tablets_impressao_imagem</th>\n",
       "      <td>79</td>\n",
       "      <td>7528.41</td>\n",
       "    </tr>\n",
       "    <tr>\n",
       "      <th>telefonia</th>\n",
       "      <td>4199</td>\n",
       "      <td>323667.53</td>\n",
       "    </tr>\n",
       "    <tr>\n",
       "      <th>telefonia_fixa</th>\n",
       "      <td>217</td>\n",
       "      <td>59583.00</td>\n",
       "    </tr>\n",
       "    <tr>\n",
       "      <th>utilidades_domesticas</th>\n",
       "      <td>5884</td>\n",
       "      <td>632248.66</td>\n",
       "    </tr>\n",
       "  </tbody>\n",
       "</table>\n",
       "<p>74 rows × 2 columns</p>\n",
       "</div>"
      ],
      "text/plain": [
       "                           order_id      price\n",
       "product_category_name                         \n",
       "NaN                            1451  179535.28\n",
       "agro_industria_e_comercio       182   72530.47\n",
       "alimentos                       450   29393.41\n",
       "alimentos_bebidas               227   15179.48\n",
       "artes                           202   24202.64\n",
       "...                             ...        ...\n",
       "sinalizacao_e_seguranca         140   21509.23\n",
       "tablets_impressao_imagem         79    7528.41\n",
       "telefonia                      4199  323667.53\n",
       "telefonia_fixa                  217   59583.00\n",
       "utilidades_domesticas          5884  632248.66\n",
       "\n",
       "[74 rows x 2 columns]"
      ]
     },
     "execution_count": 68,
     "metadata": {},
     "output_type": "execute_result"
    }
   ],
   "source": [
    "all_data.groupby(by=\"product_category_name\").agg({\n",
    "    \"order_id\": \"nunique\",\n",
    "    \"price\": \"sum\"\n",
    "})\n"
   ]
  },
  {
   "cell_type": "code",
   "execution_count": 69,
   "metadata": {},
   "outputs": [
    {
     "name": "stdout",
     "output_type": "stream",
     "text": [
      "customer_city\n",
      "sao paulo         1914924.54\n",
      "rio de janeiro     992538.86\n",
      "belo horizonte     355611.13\n",
      "brasilia           301920.25\n",
      "curitiba           211738.06\n",
      "Name: price, dtype: float64\n"
     ]
    }
   ],
   "source": [
    "city_sales = all_data.groupby('customer_city')['price'].sum()\n",
    "\n",
    "top_cities = city_sales.nlargest(5)\n",
    "top_cities.head()\n",
    "\n",
    "print(top_cities)"
   ]
  },
  {
   "cell_type": "code",
   "execution_count": 70,
   "metadata": {},
   "outputs": [
    {
     "name": "stdout",
     "output_type": "stream",
     "text": [
      "    customer_city       price\n",
      "0  belo horizonte   355611.13\n",
      "1        brasilia   301920.25\n",
      "2        curitiba   211738.06\n",
      "3  rio de janeiro   992538.86\n",
      "4       sao paulo  1914924.54\n"
     ]
    }
   ],
   "source": [
    "# Membuat codingan untuk menampilkan 5 kota yang memiliki sales terbanyak\n",
    "selected_cities = ['sao paulo', 'rio de janeiro', 'belo horizonte', 'brasilia', 'curitiba']\n",
    "filtered_data = all_data[all_data['customer_city'].isin(selected_cities)]\n",
    "total_prices = filtered_data.groupby('customer_city')['price'].sum().reset_index()\n",
    "\n",
    "# Menampilkan hasil\n",
    "print(total_prices)"
   ]
  },
  {
   "cell_type": "code",
   "execution_count": 71,
   "metadata": {},
   "outputs": [
    {
     "name": "stdout",
     "output_type": "stream",
     "text": [
      "     product_category_name  total_sold\n",
      "14         cama_mesa_banho        3539\n",
      "12            beleza_saude        2983\n",
      "33           esporte_lazer        2578\n",
      "55        moveis_decoracao        2432\n",
      "45  informatica_acessorios        2329\n",
      "73   utilidades_domesticas        2319\n",
      "67      relogios_presentes        1701\n",
      "13              brinquedos        1331\n",
      "71               telefonia        1094\n",
      "41      ferramentas_jardim        1020\n"
     ]
    }
   ],
   "source": [
    "top_products = filtered_data.groupby('product_category_name').size().reset_index(name='total_sold')\n",
    "\n",
    "# Mengurutkan berdasarkan total terjual secara descending\n",
    "top_products = top_products.sort_values(by='total_sold', ascending=False)\n",
    "\n",
    "# Mengambil top 5 produk\n",
    "top5_products = top_products.head(5)\n",
    "\n",
    "# Menampilkan hasil\n",
    "print(top5_products)"
   ]
  },
  {
   "cell_type": "code",
   "execution_count": 72,
   "metadata": {},
   "outputs": [
    {
     "name": "stdout",
     "output_type": "stream",
     "text": [
      "Top 5 Kategori Produk yang Terjual di São Paulo:\n",
      "product_category_name\n",
      "beleza_saude              189361.87\n",
      "cama_mesa_banho           170705.41\n",
      "relogios_presentes        165897.46\n",
      "informatica_acessorios    144635.68\n",
      "esporte_lazer             144533.26\n",
      "Name: price, dtype: float64\n"
     ]
    }
   ],
   "source": [
    "sao_paulo_data = filtered_data[filtered_data['customer_city'] == 'sao paulo']\n",
    "\n",
    "# Hitung total penjualan untuk setiap kategori produk di São Paulo\n",
    "category_sales = sao_paulo_data.groupby('product_category_name')['price'].sum()\n",
    "\n",
    "# Pilih 5 kategori teratas\n",
    "top_categories = category_sales.nlargest(5)\n",
    "\n",
    "# Tampilkan hasilnya\n",
    "print(\"Top 5 Kategori Produk yang Terjual di São Paulo:\")\n",
    "print(top_categories)"
   ]
  },
  {
   "cell_type": "code",
   "execution_count": null,
   "metadata": {},
   "outputs": [],
   "source": []
  },
  {
   "attachments": {},
   "cell_type": "markdown",
   "metadata": {},
   "source": [
    "## Visualization & Explanatory Analysis"
   ]
  },
  {
   "attachments": {},
   "cell_type": "markdown",
   "metadata": {},
   "source": [
    "### Pertanyaan 1: 5 kota yang memiliki penjualan terbaik di mana saja"
   ]
  },
  {
   "cell_type": "code",
   "execution_count": 73,
   "metadata": {},
   "outputs": [
    {
     "data": {
      "image/png": "[encoded data removed]",
      "text/plain": [
       "<Figure size 720x432 with 1 Axes>"
      ]
     },
     "metadata": {
      "needs_background": "light"
     },
     "output_type": "display_data"
    }
   ],
   "source": [
    "plt.figure(figsize=(10, 6))\n",
    "top_cities.plot(kind='bar', color='red')\n",
    "plt.title('Top 5 Cities by Sales')\n",
    "plt.xlabel('City')\n",
    "plt.ylabel('Total Sales')\n",
    "plt.xticks(rotation=45)\n",
    "plt.show()"
   ]
  },
  {
   "attachments": {},
   "cell_type": "markdown",
   "metadata": {},
   "source": [
    "### Pertanyaan 2: apa saja product yang paling banyak terjual di kota yang memiliki penjualan terbanyak"
   ]
  },
  {
   "cell_type": "code",
   "execution_count": 74,
   "metadata": {},
   "outputs": [],
   "source": [
    "sao_paulo_data = filtered_data[filtered_data['customer_city'] == 'sao paulo']\n",
    "\n",
    "# Hitung total penjualan untuk setiap kategori produk di Sao Paulo\n",
    "category_sales = sao_paulo_data.groupby('product_category_name')['price'].sum()\n",
    "\n",
    "# Pilih 5 kategori teratas\n",
    "top_categories = category_sales.nlargest(5)"
   ]
  },
  {
   "cell_type": "code",
   "execution_count": 75,
   "metadata": {},
   "outputs": [
    {
     "name": "stdout",
     "output_type": "stream",
     "text": [
      "Top 5 Kategori Produk yang Terjual di São Paulo:\n",
      "product_category_name\n",
      "beleza_saude              189361.87\n",
      "cama_mesa_banho           170705.41\n",
      "relogios_presentes        165897.46\n",
      "informatica_acessorios    144635.68\n",
      "esporte_lazer             144533.26\n",
      "Name: price, dtype: float64\n"
     ]
    },
    {
     "data": {
      "image/png": "[encoded data removed]",
      "text/plain": [
       "<Figure size 432x288 with 1 Axes>"
      ]
     },
     "metadata": {
      "needs_background": "light"
     },
     "output_type": "display_data"
    }
   ],
   "source": [
    "\n",
    "\n",
    "# Menampilkan hasil dari 5 kategori produk teratas di Sao Paulo\n",
    "print(\"Top 5 Kategori Produk yang Terjual di Sao Paulo:\")\n",
    "print(top_categories)\n",
    "\n",
    "# Tampilkan grafik bar horizontal\n",
    "plt.barh(y=top_categories.index, width=top_categories.values)\n",
    "plt.xlabel(\"Total Harga\")\n",
    "plt.title(\"Top 5 Kategori Produk Terjual di Sao Paulo\")\n",
    "plt.show()"
   ]
  },
  {
   "cell_type": "code",
   "execution_count": 76,
   "metadata": {},
   "outputs": [],
   "source": [
    "bottom_products = sao_paulo_data.sort_values(by='price').head(5)"
   ]
  },
  {
   "cell_type": "code",
   "execution_count": null,
   "metadata": {},
   "outputs": [],
   "source": []
  },
  {
   "attachments": {},
   "cell_type": "markdown",
   "metadata": {},
   "source": [
    "## Conclusion"
   ]
  },
  {
   "cell_type": "code",
   "execution_count": null,
   "metadata": {},
   "outputs": [],
   "source": []
  },
  {
   "attachments": {},
   "cell_type": "markdown",
   "metadata": {},
   "source": [
    "- Conclution pertanyaan 1 : 5 kota dengan penjualan terbaik kota \"Sao Paulo\", \"Rio De Jeneiro\", \"Belo Horizonte\", \"Brasilia\", dan \"Curitiba\"\n",
    "- conclution pertanyaan 2 : Produk dengan 5 Penjualan terbaik di kota Sau Paulo adalah : \"Beleza Saude\", \"Cama Mesa Banho\", \"Relogios_presentes\", \"Informatica_acessorios\", \"esporte_ezer\""
   ]
  },
  {
   "cell_type": "markdown",
   "metadata": {},
   "source": [
    "STREAMLIT \n"
   ]
  },
  {
   "cell_type": "code",
   "execution_count": 77,
   "metadata": {},
   "outputs": [],
   "source": [
    "st.title('Muhammad Riszky Wibowo')\n",
    "col1, col2= st.columns(2)\n",
    " \n",
    "with col1:\n",
    "    st.header(\"5 Kategori Sales Terbanyak di Kota Sao Paulo\")\n",
    "    st.bar_chart(top_categories)\n",
    " \n",
    "with col2:\n",
    "    st.header(\"5 Kota dengan Sales Terbanyak\")\n",
    "    st.bar_chart(top_cities)"
   ]
  },
  {
   "cell_type": "code",
   "execution_count": null,
   "metadata": {},
   "outputs": [],
   "source": []
  }
 ],
 "metadata": {
  "kernelspec": {
   "display_name": "Python 3",
   "language": "python",
   "name": "python3"
  },
  "language_info": {
   "codemirror_mode": {
    "name": "ipython",
    "version": 3
   },
   "file_extension": ".py",
   "mimetype": "text/x-python",
   "name": "python",
   "nbconvert_exporter": "python",
   "pygments_lexer": "ipython3",
   "version": "3.9.12"
  },
  "orig_nbformat": 4,
  "vscode": {
   "interpreter": {
    "hash": "972b3bf27e332e87b5379f2791f6ef9dfc79c71018c370b0d7423235e20fe4d7"
   }
  }
 },
 "nbformat": 4,
 "nbformat_minor": 2
}
